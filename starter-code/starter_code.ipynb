{
 "cells": [
  {
   "cell_type": "markdown",
   "metadata": {
    "button": false,
    "deletable": true,
    "focus": false,
    "id": "69b9a648-bcc7-490d-9f9b-ea244d156bd6",
    "new_sheet": false,
    "run_control": {
     "read_only": false
    }
   },
   "source": [
    "# Web Scraping & Predicting"
   ]
  },
  {
   "cell_type": "markdown",
   "metadata": {
    "button": false,
    "deletable": true,
    "focus": false,
    "id": "34681254-c802-462f-829d-8894d0772d08",
    "new_sheet": false,
    "run_control": {
     "read_only": false
    }
   },
   "source": [
    "In this project, we will practice two major skills. Collecting data by scraping a website and building a binary predictor with Logistic Regression."
   ]
  },
  {
   "cell_type": "markdown",
   "metadata": {
    "button": false,
    "deletable": true,
    "focus": false,
    "id": "a948d79c-5527-4c0d-ab23-f5d43ce72056",
    "new_sheet": false,
    "run_control": {
     "read_only": false
    }
   },
   "source": [
    "### Step 1: Scrape your site"
   ]
  },
  {
   "cell_type": "markdown",
   "metadata": {
    "button": false,
    "deletable": true,
    "focus": true,
    "id": "7203e0c9-e437-4802-a6ad-7dc464f94436",
    "new_sheet": false,
    "run_control": {
     "read_only": false
    }
   },
   "source": [
    "We will be scraping your website using BeautifulSoup. Write your code below."
   ]
  },
  {
   "cell_type": "code",
   "execution_count": 696,
   "metadata": {
    "button": false,
    "collapsed": false,
    "deletable": true,
    "focus": false,
    "id": "2efefc73-064a-482d-b3b5-ddf5508cb4ec",
    "new_sheet": false,
    "run_control": {
     "read_only": false
    }
   },
   "outputs": [],
   "source": [
    "from bs4 import BeautifulSoup as Soup\n",
    "import urllib, requests, re, pandas as pd\n",
    "import urllib2\n",
    "\n",
    "import statsmodels.formula.api as sm\n",
    "from sklearn.linear_model import LogisticRegression, LogisticRegressionCV\n",
    "from sklearn.metrics import roc_curve, auc, classification_report, confusion_matrix\n",
    "from sklearn.cross_validation import cross_val_score, train_test_split\n",
    "\n",
    "import seaborn as sb\n",
    "import matplotlib.pyplot as plt\n",
    "%matplotlib inline"
   ]
  },
  {
   "cell_type": "code",
   "execution_count": 175,
   "metadata": {
    "button": false,
    "collapsed": false,
    "deletable": true,
    "focus": false,
    "id": "2c6752c4-7704-4c94-8bc0-6f13d2d0d570",
    "new_sheet": false,
    "run_control": {
     "read_only": false
    }
   },
   "outputs": [],
   "source": [
    "## Getting list of job details from Indeed.com \n",
    "\n",
    "pd.set_option('max_colwidth',500)\n",
    "jobs = pd.DataFrame()\n",
    "\n",
    "# print soup\n",
    "for page in range(1,75):\n",
    "    page = (page-1) *10\n",
    "    soup = BeautifulSoup(urllib2.urlopen\n",
    "                         ('http://www.indeed.com/jobs?q=software&l=Seattle%2C+WA&start='+ str(page)).read(), \"lxml\")\n",
    "\n",
    "    target = soup.findAll('div', attrs ={\"class\" : \" row result\"})\n",
    "\n",
    "    for elem in target: \n",
    "        home_url = \"http://www.indeed.com\"\n",
    "        job_link = \"%s%s\" % (home_url,elem.find('a').get('href'))\n",
    "        job_title = elem.find('a', attrs={'class':'turnstileLink'}).attrs['title']\n",
    "        job_posted = elem.find('span', attrs={'class': 'date'}).getText()\n",
    "        job_addr = elem.find('span', attrs={'itemprop':'addressLocality'}).getText()       \n",
    "        \n",
    "        try:\n",
    "            data = ''\n",
    "            s = BeautifulSoup(urllib2.urlopen(job_link).read(), \"lxml\")\n",
    "            for x in s.find_all(['p','ul']):\n",
    "                data = data + ' ' + x.text\n",
    "\n",
    "        except Exception as e:\n",
    "            data = 'error'\n",
    "\n",
    "        jobs = jobs.append({'title': job_title,\n",
    "                            'url': job_link,\n",
    "                            'posted': job_posted,\n",
    "                            'location': job_addr,\n",
    "                            'body' : data\n",
    "                           }, ignore_index=True)"
   ]
  },
  {
   "cell_type": "code",
   "execution_count": 403,
   "metadata": {
    "collapsed": false
   },
   "outputs": [],
   "source": [
    "## Data Science Jobs from Indeed.com\n",
    "\n",
    "pd.set_option('max_colwidth',500)    # to remove column limit (Otherwise, we'll lose some info)\n",
    "ds = pd.DataFrame()\n",
    "\n",
    "# print soup\n",
    "for page in range(1,75):\n",
    "    page = (page-1) *10\n",
    "    soup = BeautifulSoup(urllib2.urlopen('http://www.indeed.com/jobs?q=data+science&l=Seattle,+WA&start='+ str(page)).read(), \"lxml\")\n",
    "\n",
    "    target = soup.findAll('div', attrs ={\"class\" : \" row result\"})\n",
    "\n",
    "    for elem in target: \n",
    "        home_url = \"http://www.indeed.com\"\n",
    "        job_link = \"%s%s\" % (home_url,elem.find('a').get('href'))\n",
    "        job_title = elem.find('a', attrs={'class':'turnstileLink'}).attrs['title']\n",
    "        job_posted = elem.find('span', attrs={'class': 'date'}).getText()\n",
    "        job_addr = elem.find('span', attrs={'itemprop':'addressLocality'}).getText()       \n",
    "        \n",
    "        try:\n",
    "            data = ''\n",
    "            s = BeautifulSoup(urllib2.urlopen(job_link).read(), \"lxml\")\n",
    "            for x in s.find_all(['p','ul']):\n",
    "                data = data + ' ' + x.text\n",
    "\n",
    "        except Exception as e:\n",
    "            data = 'error'\n",
    "\n",
    "        \n",
    "        ds = ds.append({'title': job_title,\n",
    "                        'url': job_link,\n",
    "                       'posted': job_posted,\n",
    "                        'location': job_addr,\n",
    "                        'body' : data\n",
    "                       }, ignore_index=True)"
   ]
  },
  {
   "cell_type": "code",
   "execution_count": 450,
   "metadata": {
    "collapsed": false
   },
   "outputs": [],
   "source": [
    "# taking backup of jobs dataframe\n",
    "ndf = jobs\n",
    "nds = ds"
   ]
  },
  {
   "cell_type": "code",
   "execution_count": 458,
   "metadata": {
    "collapsed": true
   },
   "outputs": [],
   "source": [
    "# Dataframe with all jobs\n",
    "job_list = pd.concat([ndf, nds])\n",
    "job_list = job_list.reset_index(drop = True)"
   ]
  },
  {
   "cell_type": "code",
   "execution_count": 468,
   "metadata": {
    "collapsed": false
   },
   "outputs": [
    {
     "data": {
      "text/plain": [
       "2007"
      ]
     },
     "execution_count": 468,
     "metadata": {},
     "output_type": "execute_result"
    }
   ],
   "source": [
    "len(job_list)\n",
    "job_list.head()"
   ]
  },
  {
   "cell_type": "code",
   "execution_count": 367,
   "metadata": {
    "collapsed": false
   },
   "outputs": [],
   "source": [
    "# Adding new column - class\n",
    "job_list['class'] = 0\n",
    "\n",
    "# Lower case Job title and Body\n",
    "job_list.title.map(lambda x: x.lower())\n",
    "\n",
    "for i in job_list.index.values:   \n",
    "    job_list.body[i] = job_list.body[i].encode('ascii', 'ignore').lower()"
   ]
  },
  {
   "cell_type": "code",
   "execution_count": 408,
   "metadata": {
    "collapsed": true
   },
   "outputs": [],
   "source": [
    "# Classification based on keywords in TITLE column \n",
    "job_list['class'] = (job_list['title'].map(lambda x: x.lower()).str.contains('data ') | \n",
    "                     job_list['title'].map(lambda x: x.lower()).str.contains('machine learning'))"
   ]
  },
  {
   "cell_type": "markdown",
   "metadata": {
    "button": false,
    "deletable": true,
    "focus": false,
    "id": "f1eddb90-4ba8-483c-a229-77e93aa53119",
    "new_sheet": false,
    "run_control": {
     "read_only": false
    }
   },
   "source": [
    "### Write functions to extract the features you think correlate well with your dataset. You MUST have at least 4 features!\n",
    "\n",
    "- **Make sure these functions are robust and can handle cases where fields may not be available.**\n",
    "    - Remember to check if a field is empty or `None` for attempting to call methods on it\n",
    "    - Remember to use `try/except` if you anticipate errors\n",
    "- **Test** the functions on the results above and simple examples"
   ]
  },
  {
   "cell_type": "code",
   "execution_count": 720,
   "metadata": {
    "collapsed": true
   },
   "outputs": [],
   "source": [
    "# Feature Selection\n",
    "job_list['is_dataScience'] = (job_list['body'].str.contains('data science') | \n",
    "                              job_list['body'].str.contains('data scientist'))\n",
    "job_list['is_ml'] = job_list['body'].str.contains('machine learning')\n",
    "job_list['is_python'] = job_list['body'].str.contains('python')\n",
    "job_list['is_stat'] = (job_list['body'].str.contains('statistical') | \n",
    "                              job_list['body'].str.contains('statistics'))\n",
    "job_list['is_cs'] = job_list['body'].str.contains('computer science')\n",
    "job_list['is_visual'] = (job_list['body'].str.contains('tableau') | \n",
    "                         job_list['body'].str.contains('data visual'))"
   ]
  },
  {
   "cell_type": "markdown",
   "metadata": {
    "button": false,
    "deletable": true,
    "focus": false,
    "id": "34070e89-9521-4b45-90c8-57a6599aac68",
    "new_sheet": false,
    "run_control": {
     "read_only": false
    }
   },
   "source": [
    "### Make sure you have at least 1000 rows before continuing."
   ]
  },
  {
   "cell_type": "markdown",
   "metadata": {
    "button": false,
    "deletable": true,
    "focus": false,
    "id": "e8beed7c-3e42-40c0-810f-5f67f8f885a0",
    "new_sheet": false,
    "run_control": {
     "read_only": false
    }
   },
   "source": [
    "#### Clean up / standardize your data here\n",
    "\n",
    "- Dates converted to correct format\n",
    "- Remove dollar signs, spaces, periods\n",
    "- etc"
   ]
  },
  {
   "cell_type": "code",
   "execution_count": 710,
   "metadata": {
    "collapsed": false,
    "run_control": {}
   },
   "outputs": [
    {
     "data": {
      "text/plain": [
       "2007"
      ]
     },
     "execution_count": 710,
     "metadata": {},
     "output_type": "execute_result"
    }
   ],
   "source": [
    "len(job_list)"
   ]
  },
  {
   "cell_type": "markdown",
   "metadata": {
    "button": false,
    "deletable": true,
    "focus": false,
    "id": "20339c09-5032-4e27-91be-286e9b46cd13",
    "new_sheet": false,
    "run_control": {
     "read_only": false
    }
   },
   "source": [
    "### Create a dataframe to compile the results of your data cleaning."
   ]
  },
  {
   "cell_type": "code",
   "execution_count": 717,
   "metadata": {
    "button": false,
    "collapsed": false,
    "deletable": true,
    "focus": false,
    "id": "6e259594-1c52-436b-ab9e-527e071941c1",
    "new_sheet": false,
    "run_control": {
     "read_only": false
    }
   },
   "outputs": [
    {
     "data": {
      "text/html": [
       "<div>\n",
       "<table border=\"1\" class=\"dataframe\">\n",
       "  <thead>\n",
       "    <tr style=\"text-align: right;\">\n",
       "      <th></th>\n",
       "      <th>location</th>\n",
       "      <th>posted</th>\n",
       "      <th>title</th>\n",
       "      <th>url</th>\n",
       "      <th>class</th>\n",
       "      <th>is_dataScience</th>\n",
       "      <th>is_ml</th>\n",
       "      <th>is_python</th>\n",
       "      <th>is_stat</th>\n",
       "      <th>is_cs</th>\n",
       "      <th>is_visual</th>\n",
       "    </tr>\n",
       "  </thead>\n",
       "  <tbody>\n",
       "    <tr>\n",
       "      <th>0</th>\n",
       "      <td>Bellevue, WA</td>\n",
       "      <td>3 days ago</td>\n",
       "      <td>Jr. Software Test Engineer</td>\n",
       "      <td>http://www.indeed.com/cmp/BrightStarr-US-Inc/jobs/Junior-Software-Test-Engineer-6180c776fdbec5cd?r=1&amp;fccid=01418573e66f4b58</td>\n",
       "      <td>False</td>\n",
       "      <td>False</td>\n",
       "      <td>False</td>\n",
       "      <td>False</td>\n",
       "      <td>False</td>\n",
       "      <td>False</td>\n",
       "      <td>False</td>\n",
       "    </tr>\n",
       "    <tr>\n",
       "      <th>1</th>\n",
       "      <td>Seattle, WA</td>\n",
       "      <td>3 days ago</td>\n",
       "      <td>UI Developer</td>\n",
       "      <td>http://www.indeed.com/cmp/SPK-CONSULTANTS/jobs/Ui-Developer-e08243b5ab787a6a?r=1&amp;fccid=11f41208fd5ba2a0</td>\n",
       "      <td>False</td>\n",
       "      <td>False</td>\n",
       "      <td>False</td>\n",
       "      <td>False</td>\n",
       "      <td>False</td>\n",
       "      <td>False</td>\n",
       "      <td>False</td>\n",
       "    </tr>\n",
       "    <tr>\n",
       "      <th>2</th>\n",
       "      <td>Redmond, WA 98052</td>\n",
       "      <td>1 day ago</td>\n",
       "      <td>Software Engineer</td>\n",
       "      <td>http://www.indeed.com/rc/clk?jk=1acd84066dc3b05b&amp;fccid=734cb5a01ee60f80</td>\n",
       "      <td>False</td>\n",
       "      <td>False</td>\n",
       "      <td>False</td>\n",
       "      <td>False</td>\n",
       "      <td>False</td>\n",
       "      <td>False</td>\n",
       "      <td>False</td>\n",
       "    </tr>\n",
       "    <tr>\n",
       "      <th>3</th>\n",
       "      <td>Redmond, WA</td>\n",
       "      <td>4 days ago</td>\n",
       "      <td>Software Engineering Intern</td>\n",
       "      <td>http://www.indeed.com/rc/clk?jk=a95f6ce1bad59b3a&amp;fccid=50208b5bf45ee3b8</td>\n",
       "      <td>False</td>\n",
       "      <td>False</td>\n",
       "      <td>False</td>\n",
       "      <td>False</td>\n",
       "      <td>False</td>\n",
       "      <td>False</td>\n",
       "      <td>False</td>\n",
       "    </tr>\n",
       "    <tr>\n",
       "      <th>4</th>\n",
       "      <td>Seattle, WA 98121 (Belltown area)</td>\n",
       "      <td>2 days ago</td>\n",
       "      <td>software Engineer- Internship- Junior</td>\n",
       "      <td>http://www.indeed.com/rc/clk?jk=9b902012834af545&amp;fccid=aef928e89977f7f0</td>\n",
       "      <td>False</td>\n",
       "      <td>False</td>\n",
       "      <td>False</td>\n",
       "      <td>False</td>\n",
       "      <td>False</td>\n",
       "      <td>False</td>\n",
       "      <td>False</td>\n",
       "    </tr>\n",
       "  </tbody>\n",
       "</table>\n",
       "</div>"
      ],
      "text/plain": [
       "                            location      posted  \\\n",
       "0                       Bellevue, WA  3 days ago   \n",
       "1                        Seattle, WA  3 days ago   \n",
       "2                  Redmond, WA 98052   1 day ago   \n",
       "3                        Redmond, WA  4 days ago   \n",
       "4  Seattle, WA 98121 (Belltown area)  2 days ago   \n",
       "\n",
       "                                   title  \\\n",
       "0             Jr. Software Test Engineer   \n",
       "1                           UI Developer   \n",
       "2                      Software Engineer   \n",
       "3            Software Engineering Intern   \n",
       "4  software Engineer- Internship- Junior   \n",
       "\n",
       "                                                                                                                           url  \\\n",
       "0  http://www.indeed.com/cmp/BrightStarr-US-Inc/jobs/Junior-Software-Test-Engineer-6180c776fdbec5cd?r=1&fccid=01418573e66f4b58   \n",
       "1                      http://www.indeed.com/cmp/SPK-CONSULTANTS/jobs/Ui-Developer-e08243b5ab787a6a?r=1&fccid=11f41208fd5ba2a0   \n",
       "2                                                      http://www.indeed.com/rc/clk?jk=1acd84066dc3b05b&fccid=734cb5a01ee60f80   \n",
       "3                                                      http://www.indeed.com/rc/clk?jk=a95f6ce1bad59b3a&fccid=50208b5bf45ee3b8   \n",
       "4                                                      http://www.indeed.com/rc/clk?jk=9b902012834af545&fccid=aef928e89977f7f0   \n",
       "\n",
       "   class is_dataScience  is_ml is_python is_stat  is_cs is_visual  \n",
       "0  False          False  False     False   False  False     False  \n",
       "1  False          False  False     False   False  False     False  \n",
       "2  False          False  False     False   False  False     False  \n",
       "3  False          False  False     False   False  False     False  \n",
       "4  False          False  False     False   False  False     False  "
      ]
     },
     "execution_count": 717,
     "metadata": {},
     "output_type": "execute_result"
    }
   ],
   "source": [
    "## Dataframe without Column BODY\n",
    "job_list.columns.values\n",
    "job_list[['location', 'posted', 'title', 'url', 'class',\n",
    "       'is_dataScience', 'is_ml', 'is_python', 'is_stat', 'is_cs',\n",
    "       'is_visual']].head()"
   ]
  },
  {
   "cell_type": "markdown",
   "metadata": {
    "button": false,
    "deletable": true,
    "focus": false,
    "id": "ff98ce64-78a7-441f-a675-63464e32c834",
    "new_sheet": false,
    "run_control": {
     "read_only": false
    }
   },
   "source": [
    "### Fill all the empty values with the column means or remove the rows from your table depending on your circumstances"
   ]
  },
  {
   "cell_type": "code",
   "execution_count": 614,
   "metadata": {
    "button": false,
    "collapsed": false,
    "deletable": true,
    "focus": false,
    "id": "58533e57-f86b-494a-b841-e7b59c6229c6",
    "new_sheet": false,
    "run_control": {
     "read_only": false
    }
   },
   "outputs": [],
   "source": [
    "## YOUR CODE HERE\n",
    "# Not required"
   ]
  },
  {
   "cell_type": "markdown",
   "metadata": {
    "button": false,
    "collapsed": false,
    "deletable": true,
    "focus": false,
    "id": "43e71edd-210e-42b1-9336-70a931f048af",
    "new_sheet": false,
    "run_control": {
     "read_only": false
    }
   },
   "source": [
    "### Save your results as a CSV"
   ]
  },
  {
   "cell_type": "code",
   "execution_count": 718,
   "metadata": {
    "button": false,
    "collapsed": false,
    "deletable": true,
    "focus": false,
    "id": "783fd153-28ac-47ab-bfca-27e7c1de95b4",
    "new_sheet": false,
    "run_control": {
     "read_only": false
    }
   },
   "outputs": [],
   "source": [
    "## YOUR CODE HERE\n",
    "job_list.to_csv('job_list.csv', sep=',', encoding ='utf-8')"
   ]
  },
  {
   "cell_type": "markdown",
   "metadata": {
    "button": false,
    "deletable": true,
    "focus": false,
    "id": "04563b69-f7b6-466f-9d65-fc62c9ddee6a",
    "new_sheet": false,
    "run_control": {
     "read_only": false
    }
   },
   "source": [
    "## Prediction using Logistic Regression"
   ]
  },
  {
   "cell_type": "markdown",
   "metadata": {
    "button": false,
    "deletable": true,
    "focus": false,
    "id": "243e949e-2742-40af-872e-fec475fd306c",
    "new_sheet": false,
    "run_control": {
     "read_only": false
    }
   },
   "source": [
    "#### Load in the the data of scraped"
   ]
  },
  {
   "cell_type": "code",
   "execution_count": 12,
   "metadata": {
    "button": false,
    "collapsed": false,
    "deletable": true,
    "focus": false,
    "id": "588f9845-6143-4bcc-bfd1-85d45b79303d",
    "new_sheet": false,
    "run_control": {
     "read_only": false
    }
   },
   "outputs": [],
   "source": [
    "## YOUR CODE HERE\n",
    "job_list = pd.DataFrame('job_list.csv')"
   ]
  },
  {
   "cell_type": "markdown",
   "metadata": {
    "button": false,
    "deletable": true,
    "focus": false,
    "id": "c7631f51-07f2-4c79-a093-3e9bc7849a48",
    "new_sheet": false,
    "run_control": {
     "read_only": false
    }
   },
   "source": [
    "### We want to predict whether the target was in a range or not with a binary variable. Create binary variables for some of your non-binary features, so we can draw correlations. See the logisitic regression lab if you are having trouble understanding the instructions. "
   ]
  },
  {
   "cell_type": "markdown",
   "metadata": {
    "button": false,
    "deletable": true,
    "focus": false,
    "id": "a7afb2c0-d41e-4779-8216-91cd8dd4473f",
    "new_sheet": false,
    "run_control": {
     "read_only": false
    }
   },
   "source": [
    "### Thought experiment: What is the baseline accuracy for this model?"
   ]
  },
  {
   "cell_type": "code",
   "execution_count": 555,
   "metadata": {
    "button": false,
    "collapsed": false,
    "deletable": true,
    "focus": false,
    "id": "87a17d3d-b7f4-4747-9f75-f9af1d18a174",
    "new_sheet": false,
    "run_control": {
     "read_only": false
    }
   },
   "outputs": [],
   "source": [
    "## YOUR CODE HERE\n",
    "a = len(job_list[job_list['class']])\n",
    "b = len(job_list)"
   ]
  },
  {
   "cell_type": "code",
   "execution_count": 558,
   "metadata": {
    "collapsed": false
   },
   "outputs": [
    {
     "data": {
      "text/plain": [
       "15.894369706028899"
      ]
     },
     "execution_count": 558,
     "metadata": {},
     "output_type": "execute_result"
    }
   ],
   "source": [
    "a *100/float(b)"
   ]
  },
  {
   "cell_type": "markdown",
   "metadata": {
    "button": false,
    "deletable": true,
    "focus": false,
    "id": "4fb29de2-5b98-474c-a4ad-5170b72b9aea",
    "new_sheet": false,
    "run_control": {
     "read_only": false
    }
   },
   "source": [
    "### Create a Logistic Regression model to predict your target using statsmodel. Start by ONLY using one feature. Display the coefficients and write a short summary of what each feature means."
   ]
  },
  {
   "cell_type": "code",
   "execution_count": 601,
   "metadata": {
    "collapsed": true
   },
   "outputs": [],
   "source": [
    "statdf = job_list.applymap(lambda x: 1 if x else 0)"
   ]
  },
  {
   "cell_type": "code",
   "execution_count": 609,
   "metadata": {
    "collapsed": true
   },
   "outputs": [],
   "source": [
    "statdf.rename(columns={'class':'label'}, inplace=True)"
   ]
  },
  {
   "cell_type": "code",
   "execution_count": 610,
   "metadata": {
    "collapsed": false
   },
   "outputs": [
    {
     "name": "stdout",
     "output_type": "stream",
     "text": [
      "Optimization terminated successfully.\n",
      "         Current function value: 0.390926\n",
      "         Iterations 6\n"
     ]
    },
    {
     "data": {
      "text/html": [
       "<table class=\"simpletable\">\n",
       "<caption>Logit Regression Results</caption>\n",
       "<tr>\n",
       "  <th>Dep. Variable:</th>       <td>label</td>      <th>  No. Observations:  </th>  <td>  2007</td>  \n",
       "</tr>\n",
       "<tr>\n",
       "  <th>Model:</th>               <td>Logit</td>      <th>  Df Residuals:      </th>  <td>  2005</td>  \n",
       "</tr>\n",
       "<tr>\n",
       "  <th>Method:</th>               <td>MLE</td>       <th>  Df Model:          </th>  <td>     1</td>  \n",
       "</tr>\n",
       "<tr>\n",
       "  <th>Date:</th>          <td>Sun, 30 Oct 2016</td> <th>  Pseudo R-squ.:     </th>  <td>0.1073</td>  \n",
       "</tr>\n",
       "<tr>\n",
       "  <th>Time:</th>              <td>14:23:06</td>     <th>  Log-Likelihood:    </th> <td> -784.59</td> \n",
       "</tr>\n",
       "<tr>\n",
       "  <th>converged:</th>           <td>True</td>       <th>  LL-Null:           </th> <td> -878.89</td> \n",
       "</tr>\n",
       "<tr>\n",
       "  <th> </th>                      <td> </td>        <th>  LLR p-value:       </th> <td>6.397e-43</td>\n",
       "</tr>\n",
       "</table>\n",
       "<table class=\"simpletable\">\n",
       "<tr>\n",
       "         <td></td>           <th>coef</th>     <th>std err</th>      <th>z</th>      <th>P>|z|</th> <th>[95.0% Conf. Int.]</th> \n",
       "</tr>\n",
       "<tr>\n",
       "  <th>Intercept</th>      <td>   -1.9751</td> <td>    0.071</td> <td>  -27.885</td> <td> 0.000</td> <td>   -2.114    -1.836</td>\n",
       "</tr>\n",
       "<tr>\n",
       "  <th>is_dataScience</th> <td>    2.5456</td> <td>    0.187</td> <td>   13.584</td> <td> 0.000</td> <td>    2.178     2.913</td>\n",
       "</tr>\n",
       "</table>"
      ],
      "text/plain": [
       "<class 'statsmodels.iolib.summary.Summary'>\n",
       "\"\"\"\n",
       "                           Logit Regression Results                           \n",
       "==============================================================================\n",
       "Dep. Variable:                  label   No. Observations:                 2007\n",
       "Model:                          Logit   Df Residuals:                     2005\n",
       "Method:                           MLE   Df Model:                            1\n",
       "Date:                Sun, 30 Oct 2016   Pseudo R-squ.:                  0.1073\n",
       "Time:                        14:23:06   Log-Likelihood:                -784.59\n",
       "converged:                       True   LL-Null:                       -878.89\n",
       "                                        LLR p-value:                 6.397e-43\n",
       "==================================================================================\n",
       "                     coef    std err          z      P>|z|      [95.0% Conf. Int.]\n",
       "----------------------------------------------------------------------------------\n",
       "Intercept         -1.9751      0.071    -27.885      0.000        -2.114    -1.836\n",
       "is_dataScience     2.5456      0.187     13.584      0.000         2.178     2.913\n",
       "==================================================================================\n",
       "\"\"\""
      ]
     },
     "execution_count": 610,
     "metadata": {},
     "output_type": "execute_result"
    }
   ],
   "source": [
    "model = sm.logit(\n",
    "    \"label ~ is_dataScience\",\n",
    "    data = statdf\n",
    ").fit() # We call fit to learn the coefficients of the model similar to linear regression model\n",
    "\n",
    "model.summary()"
   ]
  },
  {
   "cell_type": "markdown",
   "metadata": {},
   "source": [
    "## Stats Model with more variables"
   ]
  },
  {
   "cell_type": "code",
   "execution_count": 611,
   "metadata": {
    "collapsed": false
   },
   "outputs": [
    {
     "name": "stdout",
     "output_type": "stream",
     "text": [
      "Optimization terminated successfully.\n",
      "         Current function value: 0.367582\n",
      "         Iterations 6\n"
     ]
    },
    {
     "data": {
      "text/html": [
       "<table class=\"simpletable\">\n",
       "<caption>Logit Regression Results</caption>\n",
       "<tr>\n",
       "  <th>Dep. Variable:</th>       <td>label</td>      <th>  No. Observations:  </th>  <td>  2007</td>  \n",
       "</tr>\n",
       "<tr>\n",
       "  <th>Model:</th>               <td>Logit</td>      <th>  Df Residuals:      </th>  <td>  2000</td>  \n",
       "</tr>\n",
       "<tr>\n",
       "  <th>Method:</th>               <td>MLE</td>       <th>  Df Model:          </th>  <td>     6</td>  \n",
       "</tr>\n",
       "<tr>\n",
       "  <th>Date:</th>          <td>Sun, 30 Oct 2016</td> <th>  Pseudo R-squ.:     </th>  <td>0.1606</td>  \n",
       "</tr>\n",
       "<tr>\n",
       "  <th>Time:</th>              <td>14:24:13</td>     <th>  Log-Likelihood:    </th> <td> -737.74</td> \n",
       "</tr>\n",
       "<tr>\n",
       "  <th>converged:</th>           <td>True</td>       <th>  LL-Null:           </th> <td> -878.89</td> \n",
       "</tr>\n",
       "<tr>\n",
       "  <th> </th>                      <td> </td>        <th>  LLR p-value:       </th> <td>5.027e-58</td>\n",
       "</tr>\n",
       "</table>\n",
       "<table class=\"simpletable\">\n",
       "<tr>\n",
       "         <td></td>           <th>coef</th>     <th>std err</th>      <th>z</th>      <th>P>|z|</th> <th>[95.0% Conf. Int.]</th> \n",
       "</tr>\n",
       "<tr>\n",
       "  <th>Intercept</th>      <td>   -1.9572</td> <td>    0.080</td> <td>  -24.573</td> <td> 0.000</td> <td>   -2.113    -1.801</td>\n",
       "</tr>\n",
       "<tr>\n",
       "  <th>is_dataScience</th> <td>    1.6983</td> <td>    0.245</td> <td>    6.924</td> <td> 0.000</td> <td>    1.218     2.179</td>\n",
       "</tr>\n",
       "<tr>\n",
       "  <th>is_ml</th>          <td>    1.4535</td> <td>    0.274</td> <td>    5.309</td> <td> 0.000</td> <td>    0.917     1.990</td>\n",
       "</tr>\n",
       "<tr>\n",
       "  <th>is_python</th>      <td>    0.4734</td> <td>    0.233</td> <td>    2.034</td> <td> 0.042</td> <td>    0.017     0.930</td>\n",
       "</tr>\n",
       "<tr>\n",
       "  <th>is_stat</th>        <td>    1.0837</td> <td>    0.238</td> <td>    4.560</td> <td> 0.000</td> <td>    0.618     1.550</td>\n",
       "</tr>\n",
       "<tr>\n",
       "  <th>is_cs</th>          <td>   -0.9832</td> <td>    0.195</td> <td>   -5.044</td> <td> 0.000</td> <td>   -1.365    -0.601</td>\n",
       "</tr>\n",
       "<tr>\n",
       "  <th>is_visual</th>      <td>    0.2377</td> <td>    0.377</td> <td>    0.631</td> <td> 0.528</td> <td>   -0.501     0.976</td>\n",
       "</tr>\n",
       "</table>"
      ],
      "text/plain": [
       "<class 'statsmodels.iolib.summary.Summary'>\n",
       "\"\"\"\n",
       "                           Logit Regression Results                           \n",
       "==============================================================================\n",
       "Dep. Variable:                  label   No. Observations:                 2007\n",
       "Model:                          Logit   Df Residuals:                     2000\n",
       "Method:                           MLE   Df Model:                            6\n",
       "Date:                Sun, 30 Oct 2016   Pseudo R-squ.:                  0.1606\n",
       "Time:                        14:24:13   Log-Likelihood:                -737.74\n",
       "converged:                       True   LL-Null:                       -878.89\n",
       "                                        LLR p-value:                 5.027e-58\n",
       "==================================================================================\n",
       "                     coef    std err          z      P>|z|      [95.0% Conf. Int.]\n",
       "----------------------------------------------------------------------------------\n",
       "Intercept         -1.9572      0.080    -24.573      0.000        -2.113    -1.801\n",
       "is_dataScience     1.6983      0.245      6.924      0.000         1.218     2.179\n",
       "is_ml              1.4535      0.274      5.309      0.000         0.917     1.990\n",
       "is_python          0.4734      0.233      2.034      0.042         0.017     0.930\n",
       "is_stat            1.0837      0.238      4.560      0.000         0.618     1.550\n",
       "is_cs             -0.9832      0.195     -5.044      0.000        -1.365    -0.601\n",
       "is_visual          0.2377      0.377      0.631      0.528        -0.501     0.976\n",
       "==================================================================================\n",
       "\"\"\""
      ]
     },
     "execution_count": 611,
     "metadata": {},
     "output_type": "execute_result"
    }
   ],
   "source": [
    "model = sm.logit(\n",
    "    \"label ~ is_dataScience + is_ml + is_python + is_stat + is_cs + is_visual\",\n",
    "    data = statdf\n",
    ").fit()\n",
    "\n",
    "model.summary()"
   ]
  },
  {
   "cell_type": "markdown",
   "metadata": {},
   "source": [
    "## Rebuild this model with scikit-learn.\n",
    "- You can either create the dummy features manually or use the `dmatrix` function from `patsy`\n",
    "- Remember to scale the feature variables as well!"
   ]
  },
  {
   "cell_type": "code",
   "execution_count": 559,
   "metadata": {
    "collapsed": true
   },
   "outputs": [],
   "source": [
    "def examine_coefficients(model, df):\n",
    "    df = pd.DataFrame(\n",
    "        { 'Coefficient' : model.coef_[0] , 'Feature' : df.columns}\n",
    "    ).sort_values(by='Coefficient')\n",
    "    return df[df.Coefficient !=0 ]"
   ]
  },
  {
   "cell_type": "code",
   "execution_count": 596,
   "metadata": {
    "button": false,
    "collapsed": false,
    "deletable": true,
    "focus": false,
    "id": "ddbc6159-6854-4ca7-857f-bfecdaf6d9c2",
    "new_sheet": false,
    "run_control": {
     "read_only": false
    }
   },
   "outputs": [
    {
     "name": "stdout",
     "output_type": "stream",
     "text": [
      "   Coefficient         Feature\n",
      "0     2.450596  is_dataScience\n",
      "mean accuracy: 0.860993017423, all: [ 0.83731343  0.89536622  0.8502994 ]\n",
      "mean precision: 0.611574074074, all: [ 0.47222222  0.8         0.5625    ]\n",
      "mean recall: 0.288808558161, all: [ 0.1588785   0.45283019  0.25471698]\n",
      "mean roc_auc: 0.628999493246, all: [ 0.56256536  0.7157579   0.60867522]\n"
     ]
    }
   ],
   "source": [
    "## YOUR CODE HERE\n",
    "X = job_list[['is_dataScience']]\n",
    "y = job_list['class']\n",
    "\n",
    "logreg = LogisticRegression() \n",
    "\n",
    "logreg.fit(X, y)\n",
    "print examine_coefficients(model, X)\n",
    "\n",
    "for metric in ['accuracy', 'precision', 'recall', 'roc_auc']:\n",
    "    scores = cross_val_score(logreg, X, y, scoring=metric)\n",
    "    print(\"mean {}: {}, all: {}\".format(metric, scores.mean(), scores))"
   ]
  },
  {
   "cell_type": "markdown",
   "metadata": {
    "button": false,
    "deletable": true,
    "focus": false,
    "id": "0ef04f32-419c-4bf2-baf7-48201f03df89",
    "new_sheet": false,
    "run_control": {
     "read_only": false
    }
   },
   "source": [
    "#### Create a few new variables in your dataframe to represent interesting aspects of your features.\n",
    "- For example, create a feature that represents whether 'Senior' is in the title when dealing with employment statistics\n",
    "- Then build a new Logistic Regression model with these features. Do they add any value? \n"
   ]
  },
  {
   "cell_type": "code",
   "execution_count": 618,
   "metadata": {
    "button": false,
    "collapsed": false,
    "deletable": true,
    "focus": false,
    "id": "068dc1cf-7fd7-4f27-a1f1-7f0a5a221d29",
    "new_sheet": false,
    "run_control": {
     "read_only": false
    }
   },
   "outputs": [
    {
     "name": "stdout",
     "output_type": "stream",
     "text": [
      "   Coefficient         Feature\n",
      "4    -0.922385           is_cs\n",
      "5     0.234724       is_visual\n",
      "2     0.471030       is_python\n",
      "3     1.056737         is_stat\n",
      "1     1.376650           is_ml\n",
      "0     1.625469  is_dataScience\n",
      "mean accuracy: 0.868956202224, all: [ 0.86268657  0.88639761  0.85778443]\n",
      "mean precision: 0.777895981087, all: [ 0.8         0.91666667  0.61702128]\n",
      "mean recall: 0.257273849409, all: [ 0.18691589  0.31132075  0.27358491]\n",
      "mean roc_auc: 0.68882915174, all: [ 0.63744792  0.77600623  0.6530333 ]\n"
     ]
    }
   ],
   "source": [
    "## Scikit model\n",
    "X = job_list[['is_dataScience', 'is_ml', 'is_python','is_stat', 'is_cs', 'is_visual']]\n",
    "y = job_list['class']\n",
    "\n",
    "\n",
    "logreg = LogisticRegression() \n",
    "\n",
    "logreg.fit(X, y)\n",
    "print examine_coefficients(logreg, X)\n",
    "\n",
    "for metric in ['accuracy', 'precision', 'recall', 'roc_auc']:\n",
    "    scores = cross_val_score(logreg, X, y, scoring=metric)\n",
    "    print(\"mean {}: {}, all: {}\".format(metric, scores.mean(), scores))"
   ]
  },
  {
   "cell_type": "markdown",
   "metadata": {
    "button": false,
    "deletable": true,
    "focus": false,
    "id": "9367beff-72ba-4768-a0ba-a50b335de61d",
    "new_sheet": false,
    "run_control": {
     "read_only": false
    }
   },
   "source": [
    "#### Use cross-validation in scikit-learn to evaluate the model above. \n",
    "- Evaluate the accuracy, AUC, precision and recall of the model. \n",
    "- Discuss the differences and explain when you want a high-recall or a high-precision model in this scenario."
   ]
  },
  {
   "cell_type": "code",
   "execution_count": 650,
   "metadata": {
    "button": false,
    "collapsed": false,
    "deletable": true,
    "focus": false,
    "id": "269b9e7c-60b5-4a06-8255-881d7395bc1b",
    "new_sheet": false,
    "run_control": {
     "read_only": false
    }
   },
   "outputs": [
    {
     "name": "stdout",
     "output_type": "stream",
     "text": [
      "mean accuracy: 0.86056129279, all: [ 0.85714286  0.86309524  0.86144578]\n",
      "mean precision: 0.753968253968, all: [ 0.71428571  0.83333333  0.71428571]\n",
      "mean recall: 0.187559354226, all: [ 0.18518519  0.18518519  0.19230769]\n",
      "mean roc_auc: 0.634992605678, all: [ 0.57919622  0.7224849   0.6032967 ]\n"
     ]
    }
   ],
   "source": [
    "## Cross Validation \n",
    "X = job_list[['is_dataScience', 'is_ml', 'is_python','is_stat', 'is_cs', 'is_visual']]\n",
    "y = job_list['class']\n",
    "\n",
    "X_train, X_test, Y_train, Y_test = train_test_split(X, y, test_size=0.25, stratify=y, random_state=77)\n",
    "\n",
    "logreg_cv = LogisticRegressionCV()\n",
    "\n",
    "logreg_cv.fit(X_train, Y_train)\n",
    "\n",
    "for metric in ['accuracy', 'precision', 'recall', 'roc_auc']:\n",
    "    scores = cross_val_score(logreg_cv, X_test, Y_test, scoring=metric)\n",
    "    print(\"mean {}: {}, all: {}\".format(metric, scores.mean(), scores))"
   ]
  },
  {
   "cell_type": "code",
   "execution_count": 651,
   "metadata": {
    "collapsed": false
   },
   "outputs": [
    {
     "name": "stdout",
     "output_type": "stream",
     "text": [
      "mean accuracy: 0.884457275924, all: [ 0.88690476  0.85628743  0.91017964]\n",
      "mean precision: 0.744107744108, all: [ 0.77777778  0.45454545  1.        ]\n",
      "mean recall: 0.285628019324, all: [ 0.29166667  0.2173913   0.34782609]\n",
      "mean roc_auc: 0.706230290526, all: [ 0.69024884  0.68115942  0.74728261]\n"
     ]
    }
   ],
   "source": [
    "## Cross Validation \n",
    "X_train, X_test, Y_train, Y_test = train_test_split(X, y, test_size=0.25, random_state=77)\n",
    "\n",
    "logreg_cv = LogisticRegressionCV()\n",
    "logreg_cv.fit(X_train, Y_train)\n",
    "\n",
    "for metric in ['accuracy', 'precision', 'recall', 'roc_auc']:\n",
    "    scores = cross_val_score(logreg_cv, X_test, Y_test, scoring=metric)\n",
    "    print(\"mean {}: {}, all: {}\".format(metric, scores.mean(), scores))"
   ]
  },
  {
   "cell_type": "markdown",
   "metadata": {
    "button": false,
    "deletable": true,
    "focus": false,
    "id": "8c22664b-92e4-4fc2-b7ac-fbac865845d3",
    "new_sheet": false,
    "run_control": {
     "read_only": false
    }
   },
   "source": [
    "#### Compare L1 and L2 regularization for this logistic regression model. What effect does this have on the coefficients learned?\n",
    "## Using GridSearchCV"
   ]
  },
  {
   "cell_type": "code",
   "execution_count": 670,
   "metadata": {
    "button": false,
    "collapsed": false,
    "deletable": true,
    "focus": false,
    "id": "172fd952-5012-4630-81f4-1206da6eb820",
    "new_sheet": false,
    "run_control": {
     "read_only": false
    }
   },
   "outputs": [
    {
     "name": "stderr",
     "output_type": "stream",
     "text": [
      "/Users/Shreyas/anaconda/lib/python2.7/site-packages/sklearn/grid_search.py:43: DeprecationWarning: This module was deprecated in version 0.18 in favor of the model_selection module into which all the refactored classes and functions are moved. This module will be removed in 0.20.\n",
      "  DeprecationWarning)\n"
     ]
    },
    {
     "name": "stdout",
     "output_type": "stream",
     "text": [
      "Fitting 5 folds for each of 24 candidates, totalling 120 fits\n"
     ]
    },
    {
     "name": "stderr",
     "output_type": "stream",
     "text": [
      "[Parallel(n_jobs=1)]: Done 120 out of 120 | elapsed:    0.9s finished\n"
     ]
    },
    {
     "data": {
      "text/plain": [
       "GridSearchCV(cv=5, error_score='raise',\n",
       "       estimator=LogisticRegression(C=1.0, class_weight=None, dual=False, fit_intercept=True,\n",
       "          intercept_scaling=1, max_iter=100, multi_class='ovr', n_jobs=1,\n",
       "          penalty='l2', random_state=None, solver='liblinear', tol=0.0001,\n",
       "          verbose=0, warm_start=False),\n",
       "       fit_params={}, iid=True, n_jobs=1,\n",
       "       param_grid={'penalty': ['l1', 'l2'], 'C': [0.0001, 0.001, 0.01, 0.1, 0.5, 0.75, 1.0, 2.5, 5.0, 10.0, 100.0, 1000.0]},\n",
       "       pre_dispatch='2*n_jobs', refit=True, scoring='accuracy',\n",
       "       verbose=True)"
      ]
     },
     "execution_count": 670,
     "metadata": {},
     "output_type": "execute_result"
    }
   ],
   "source": [
    "## GridSearchCV to come with best paramaters\n",
    "from sklearn.grid_search import GridSearchCV\n",
    "X = job_list[['is_dataScience', 'is_ml', 'is_python','is_stat', 'is_cs', 'is_visual']]\n",
    "y = job_list['class']\n",
    "\n",
    "logreg = LogisticRegression()\n",
    "C_vals = [0.0001, 0.001, 0.01, 0.1, 0.5, 0.75, 1.0, 2.5, 5.0, 10.0, 100.0, 1000.0]\n",
    "penalties = ['l1','l2']\n",
    "\n",
    "gs = GridSearchCV(logreg, {'penalty':penalties, 'C':C_vals}, verbose=True, cv=5, scoring='accuracy')\n",
    "gs.fit(X, y)"
   ]
  },
  {
   "cell_type": "code",
   "execution_count": 708,
   "metadata": {
    "button": false,
    "collapsed": false,
    "deletable": true,
    "focus": false,
    "id": "56cc8854-d722-411d-a6c7-e86310710f67",
    "new_sheet": false,
    "run_control": {
     "read_only": false
    }
   },
   "outputs": [
    {
     "data": {
      "text/plain": [
       "{'C': 2.5, 'penalty': 'l1'}"
      ]
     },
     "execution_count": 708,
     "metadata": {},
     "output_type": "execute_result"
    }
   ],
   "source": [
    "## YOUR CODE HERE\n",
    "gs.best_params_"
   ]
  },
  {
   "cell_type": "code",
   "execution_count": 725,
   "metadata": {
    "collapsed": false
   },
   "outputs": [
    {
     "name": "stdout",
     "output_type": "stream",
     "text": [
      "mean accuracy: 0.884457275924, all: [ 0.88690476  0.85628743  0.91017964]\n",
      "mean precision: 0.744107744108, all: [ 0.77777778  0.45454545  1.        ]\n",
      "mean recall: 0.285628019324, all: [ 0.29166667  0.2173913   0.34782609]\n",
      "mean roc_auc: 0.716588248121, all: [ 0.69082755  0.68115942  0.77777778]\n"
     ]
    }
   ],
   "source": [
    "## Model with BEST PARAMETERS\n",
    "X = job_list[['is_dataScience', 'is_ml', 'is_python','is_stat', 'is_cs', 'is_visual']]\n",
    "y = job_list['class']\n",
    "\n",
    "X_train, X_test, Y_train, Y_test = train_test_split(X, y, test_size=0.25, random_state=77)\n",
    "\n",
    "logreg = LogisticRegression(C=2.5, penalty='l1')\n",
    "\n",
    "logreg.fit(X_train, Y_train)\n",
    "\n",
    "for metric in ['accuracy', 'precision', 'recall', 'roc_auc']:\n",
    "    scores = cross_val_score(logreg_cv, X_test, Y_test, scoring=metric)\n",
    "    print(\"mean {}: {}, all: {}\".format(metric, scores.mean(), scores))"
   ]
  },
  {
   "cell_type": "code",
   "execution_count": 723,
   "metadata": {
    "collapsed": false
   },
   "outputs": [
    {
     "data": {
      "image/png": "[encoded data removed]",
      "text/plain": [
       "<matplotlib.figure.Figure at 0x11477f190>"
      ]
     },
     "metadata": {},
     "output_type": "display_data"
    }
   ],
   "source": [
    "# ROC Curve\n",
    "Y_proba_score = logreg.predict_proba(X_test)\n",
    "\n",
    "FPR, TPR, thresholds = roc_curve(Y_test, Y_proba_score[:,1])\n",
    "\n",
    "ROC_AUC = auc(FPR, TPR)\n",
    "\n",
    "plt.figure(figsize=[9,7])\n",
    "plt.plot(FPR, TPR, label='ROC curve (area = %0.2f)' % ROC_AUC, linewidth=4)\n",
    "\n",
    "plt.plot([0, 1], [0, 1], 'k--', linewidth=4)\n",
    "plt.xlim([0.0, 1.0])\n",
    "plt.ylim([0.0, 1.05])\n",
    "plt.xlabel('False Positive Rate', fontsize=14)\n",
    "plt.ylabel('True Positive Rate', fontsize=14)\n",
    "plt.title('Receiver operating characteristic for job recommendation', fontsize=14)\n",
    "plt.legend(loc=\"lower right\")\n",
    "plt.show()"
   ]
  },
  {
   "cell_type": "markdown",
   "metadata": {},
   "source": [
    "### The above model is the best MODEL with the amount of data munging and feature selection. The model could have been improved with more data analysis, cleaning the BODY column to retain the best keywords and by selecting right set of features\n"
   ]
  },
  {
   "cell_type": "markdown",
   "metadata": {
    "button": false,
    "deletable": true,
    "focus": false,
    "id": "3be94357-e551-4094-b784-2df039216d33",
    "new_sheet": false,
    "run_control": {
     "read_only": false
    }
   },
   "source": [
    "### BONUS "
   ]
  },
  {
   "cell_type": "markdown",
   "metadata": {
    "button": false,
    "deletable": true,
    "focus": false,
    "id": "db045898-1d2d-4af2-8e79-437c4c7546b4",
    "new_sheet": false,
    "run_control": {
     "read_only": false
    }
   },
   "source": [
    "#### Bonus: Use Count Vectorizer from scikit-learn to create features from text summaries if they exist. \n",
    "- Examine using count or binary features in the model\n",
    "- Re-evaluate the logistic regression model using these. Does this improve the model performance? \n",
    "- What text features are the most valuable? "
   ]
  },
  {
   "cell_type": "markdown",
   "metadata": {},
   "source": [
    "## Count Vectorizer for column BODY, selecting most common 200 words"
   ]
  },
  {
   "cell_type": "code",
   "execution_count": 689,
   "metadata": {
    "collapsed": true
   },
   "outputs": [],
   "source": [
    "## YOUR CODE HERE\n",
    "from sklearn.feature_extraction.text import CountVectorizer\n",
    "v = CountVectorizer(\n",
    "    binary=True,  # Create binary features\n",
    "    stop_words='english', # Ignore common words such as 'the', 'and'\n",
    "    max_features=200, # Only use the top 200 most common words\n",
    ")\n",
    "\n",
    "# This builds a matrix with a row per website (or data point) and column per word (using all words in the dataset)\n",
    "X = v.fit_transform(job_list.body).todense()\n",
    "X = pd.DataFrame(X, columns=v.get_feature_names())"
   ]
  },
  {
   "cell_type": "code",
   "execution_count": 690,
   "metadata": {
    "collapsed": false
   },
   "outputs": [
    {
     "name": "stdout",
     "output_type": "stream",
     "text": [
      "mean accuracy: 0.83462421113, all: [ 0.83928571  0.83928571  0.8253012 ]\n",
      "mean precision: 0.0666666666667, all: [ 0.   0.   0.2]\n",
      "mean recall: 0.0128205128205, all: [ 0.          0.          0.03846154]\n",
      "mean roc_auc: 0.614765467218, all: [ 0.51615445  0.57223536  0.75590659]\n"
     ]
    }
   ],
   "source": [
    "X_train, X_test, Y_train, Y_test = train_test_split(X, y, test_size=0.25, stratify=y, random_state=77)\n",
    "\n",
    "logreg_cv = LogisticRegressionCV(Cs=15, cv=5, penalty='l2', scoring='accuracy', solver='liblinear')\n",
    "\n",
    "logreg_cv.fit(X_train, Y_train)\n",
    "\n",
    "for metric in ['accuracy', 'precision', 'recall', 'roc_auc']:\n",
    "    scores = cross_val_score(logreg_cv, X_test, Y_test, scoring=metric)\n",
    "    print(\"mean {}: {}, all: {}\".format(metric, scores.mean(), scores))"
   ]
  },
  {
   "cell_type": "markdown",
   "metadata": {},
   "source": [
    "### The above Model has very low scores and is not the right model. Model is with the most common 200 words in body column, but it has lot of unwanted words.  More Data analsysis and munging is required to get the right set of common words as features"
   ]
  },
  {
   "cell_type": "markdown",
   "metadata": {},
   "source": [
    "## Count Vectorizer with column TITLE with most common 50 words"
   ]
  },
  {
   "cell_type": "code",
   "execution_count": 693,
   "metadata": {
    "button": false,
    "collapsed": false,
    "deletable": true,
    "focus": false,
    "id": "4239e458-28bd-4675-8db3-c1d9c02b9854",
    "new_sheet": false,
    "run_control": {
     "read_only": false
    }
   },
   "outputs": [],
   "source": [
    "## YOUR CODE HERE\n",
    "from sklearn.feature_extraction.text import CountVectorizer\n",
    "v = CountVectorizer(\n",
    "    binary=True,  # Create binary features\n",
    "    stop_words='english', # Ignore common words such as 'the', 'and'\n",
    "    max_features=50, # Only use the top 200 most common words\n",
    ")\n",
    "\n",
    "# This builds a matrix with a row per website (or data point) and column per word (using all words in the dataset)\n",
    "X = v.fit_transform(job_list.title).todense()\n",
    "X = pd.DataFrame(X, columns=v.get_feature_names())"
   ]
  },
  {
   "cell_type": "markdown",
   "metadata": {
    "button": false,
    "deletable": true,
    "focus": false,
    "id": "d42b9fd8-39d5-416a-b40b-7410e6396c11",
    "new_sheet": false,
    "run_control": {
     "read_only": false
    }
   },
   "source": [
    "#### Re-test L1 and L2 regularization. You can use LogisticRegressionCV to find the optimal reguarlization parameters. \n",
    "- Re-test what text features are most valuable.  \n",
    "- How do L1 and L2 change the coefficients?"
   ]
  },
  {
   "cell_type": "code",
   "execution_count": 694,
   "metadata": {
    "button": false,
    "collapsed": false,
    "deletable": true,
    "focus": false,
    "id": "7570e237-c8cc-4e26-b569-7aee10627e79",
    "new_sheet": false,
    "run_control": {
     "read_only": false
    }
   },
   "outputs": [
    {
     "name": "stdout",
     "output_type": "stream",
     "text": [
      "mean accuracy: 0.996031746032, all: [ 0.98809524  1.          1.        ]\n",
      "mean precision: 0.977011494253, all: [ 0.93103448  1.          1.        ]\n",
      "mean recall: 1.0, all: [ 1.  1.  1.]\n",
      "mean roc_auc: 0.998861745907, all: [ 0.99658524  1.          1.        ]\n"
     ]
    }
   ],
   "source": [
    "## YOUR CODE HERE\n",
    "\n",
    "X_train, X_test, Y_train, Y_test = train_test_split(X, y, test_size=0.25, stratify=y, random_state=77)\n",
    "\n",
    "logreg_cv = LogisticRegressionCV(Cs=15, cv=5, penalty='l2', scoring='accuracy', solver='liblinear')\n",
    "\n",
    "logreg_cv.fit(X_train, Y_train)\n",
    "\n",
    "for metric in ['accuracy', 'precision', 'recall', 'roc_auc']:\n",
    "    scores = cross_val_score(logreg_cv, X_test, Y_test, scoring=metric)\n",
    "    print(\"mean {}: {}, all: {}\".format(metric, scores.mean(), scores))"
   ]
  },
  {
   "cell_type": "markdown",
   "metadata": {
    "button": false,
    "collapsed": true,
    "deletable": true,
    "focus": false,
    "id": "e3a0c83d-e3b8-4bed-b864-7e795b34a3d4",
    "new_sheet": false,
    "run_control": {
     "read_only": false
    }
   },
   "source": [
    "### The above model looks like a very good fit, but the class label is taken from title column. This is not the RIGHT  model"
   ]
  },
  {
   "cell_type": "markdown",
   "metadata": {},
   "source": [
    "## Problem Statement\n",
    "### Recommendation System for people looking for data science jobs.\n",
    "\n",
    "To suggest if the new job posting is data science job or not,\n",
    "if a data science job is posted in Indeed.com, I should get a notification\n",
    "\n"
   ]
  },
  {
   "cell_type": "code",
   "execution_count": null,
   "metadata": {
    "collapsed": true
   },
   "outputs": [],
   "source": []
  },
  {
   "cell_type": "code",
   "execution_count": null,
   "metadata": {
    "collapsed": true
   },
   "outputs": [],
   "source": []
  }
 ],
 "metadata": {
  "anaconda-cloud": {},
  "kernelspec": {
   "display_name": "Python [default]",
   "language": "python",
   "name": "python2"
  },
  "language_info": {
   "codemirror_mode": {
    "name": "ipython",
    "version": 2
   },
   "file_extension": ".py",
   "mimetype": "text/x-python",
   "name": "python",
   "nbconvert_exporter": "python",
   "pygments_lexer": "ipython2",
   "version": "2.7.12"
  }
 },
 "nbformat": 4,
 "nbformat_minor": 0
}
